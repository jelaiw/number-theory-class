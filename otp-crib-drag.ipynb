{
 "cells": [
  {
   "attachments": {},
   "cell_type": "markdown",
   "metadata": {},
   "source": [
    "See http://travisdazell.blogspot.com/2012/11/many-time-pad-attack-crib-drag.html."
   ]
  },
  {
   "cell_type": "code",
   "execution_count": 1,
   "metadata": {},
   "outputs": [],
   "source": [
    "def to_hex(plain_text):\n",
    "    hex_codes = []\n",
    "    for symbol in plain_text:\n",
    "        hex_code = hex(ord(symbol)).replace('0x', '')\n",
    "        if len(hex_code) == 1:\n",
    "            hex_code = '0' + hex_code\n",
    "        hex_codes.append(hex_code)\n",
    "    return ''.join(hex_codes)"
   ]
  },
  {
   "cell_type": "code",
   "execution_count": 2,
   "metadata": {},
   "outputs": [],
   "source": [
    "def to_str(hex_code):\n",
    "    if hex_code:\n",
    "        return chr(int(hex_code[:2], base=16)) + to_str(hex_code[2:])\n",
    "    return ''"
   ]
  },
  {
   "cell_type": "code",
   "execution_count": 3,
   "metadata": {},
   "outputs": [],
   "source": [
    "def bitwise_xor(first_text, second_text):\n",
    "    assert len(first_text) == len(second_text)\n",
    "    return ''.join(format(int(s1, 16) ^ int(s2, 16), '01x')\n",
    "                   for s1, s2 in zip(first_text, second_text))"
   ]
  },
  {
   "cell_type": "code",
   "execution_count": 4,
   "metadata": {},
   "outputs": [],
   "source": [
    "message = \"Hello World\"\n",
    "key = \"supersecret\""
   ]
  },
  {
   "cell_type": "code",
   "execution_count": 5,
   "metadata": {},
   "outputs": [
    {
     "name": "stdout",
     "output_type": "stream",
     "text": [
      "48656c6c6f20576f726c64\n",
      "7375706572736563726574\n"
     ]
    }
   ],
   "source": [
    "print(to_hex(message))\n",
    "print(to_hex(key))"
   ]
  },
  {
   "cell_type": "code",
   "execution_count": 6,
   "metadata": {},
   "outputs": [
    {
     "name": "stdout",
     "output_type": "stream",
     "text": [
      "3b101c091d53320c000910\n"
     ]
    }
   ],
   "source": [
    "print(bitwise_xor(to_hex(message), to_hex(key)))"
   ]
  },
  {
   "cell_type": "code",
   "execution_count": 7,
   "metadata": {},
   "outputs": [],
   "source": [
    "message1 = \"Hello World\"\n",
    "message2 = \"the program\""
   ]
  },
  {
   "cell_type": "code",
   "execution_count": 8,
   "metadata": {},
   "outputs": [],
   "source": [
    "ciphertext1 = bitwise_xor(to_hex(message1), to_hex(key))\n",
    "ciphertext2 = bitwise_xor(to_hex(message2), to_hex(key))"
   ]
  },
  {
   "cell_type": "code",
   "execution_count": 9,
   "metadata": {},
   "outputs": [
    {
     "name": "stdout",
     "output_type": "stream",
     "text": [
      "3b101c091d53320c000910\n",
      "071d154502010a04000419\n"
     ]
    }
   ],
   "source": [
    "print(ciphertext1)\n",
    "print(ciphertext2)"
   ]
  },
  {
   "attachments": {},
   "cell_type": "markdown",
   "metadata": {},
   "source": [
    "Confirm XOR of ciphertexts is the same as XOR of the plaintexts."
   ]
  },
  {
   "cell_type": "code",
   "execution_count": 10,
   "metadata": {},
   "outputs": [
    {
     "name": "stdout",
     "output_type": "stream",
     "text": [
      "3c0d094c1f523808000d09\n",
      "3c0d094c1f523808000d09\n"
     ]
    }
   ],
   "source": [
    "print(bitwise_xor(ciphertext1, ciphertext2))\n",
    "print(bitwise_xor(to_hex(message1), to_hex(message2)))"
   ]
  },
  {
   "cell_type": "code",
   "execution_count": 11,
   "metadata": {},
   "outputs": [],
   "source": [
    "xor_ciphertext = bitwise_xor(ciphertext1, ciphertext2)"
   ]
  },
  {
   "cell_type": "code",
   "execution_count": 12,
   "metadata": {},
   "outputs": [
    {
     "data": {
      "text/plain": [
       "'746865'"
      ]
     },
     "execution_count": 12,
     "metadata": {},
     "output_type": "execute_result"
    }
   ],
   "source": [
    "guess = to_hex(\"the\")\n",
    "guess"
   ]
  },
  {
   "cell_type": "code",
   "execution_count": 13,
   "metadata": {},
   "outputs": [
    {
     "data": {
      "text/plain": [
       "'3c0d09'"
      ]
     },
     "execution_count": 13,
     "metadata": {},
     "output_type": "execute_result"
    }
   ],
   "source": [
    "xor_ciphertext[:len(guess)]"
   ]
  },
  {
   "attachments": {},
   "cell_type": "markdown",
   "metadata": {},
   "source": [
    "Probable good guess. Could be \"Hello\" or \"Help\" in one of the plaintext messages."
   ]
  },
  {
   "cell_type": "code",
   "execution_count": 14,
   "metadata": {},
   "outputs": [
    {
     "data": {
      "text/plain": [
       "'Hel'"
      ]
     },
     "execution_count": 14,
     "metadata": {},
     "output_type": "execute_result"
    }
   ],
   "source": [
    "to_str(bitwise_xor(guess, xor_ciphertext[:len(guess)]))"
   ]
  },
  {
   "attachments": {},
   "cell_type": "markdown",
   "metadata": {},
   "source": [
    "A bad guess results in nonsense or unreadable string text."
   ]
  },
  {
   "cell_type": "code",
   "execution_count": 15,
   "metadata": {},
   "outputs": [
    {
     "data": {
      "text/plain": [
       "'666f6f'"
      ]
     },
     "execution_count": 15,
     "metadata": {},
     "output_type": "execute_result"
    }
   ],
   "source": [
    "bad_guess = to_hex(\"foo\")\n",
    "bad_guess"
   ]
  },
  {
   "cell_type": "code",
   "execution_count": 16,
   "metadata": {},
   "outputs": [
    {
     "data": {
      "text/plain": [
       "'Zbf'"
      ]
     },
     "execution_count": 16,
     "metadata": {},
     "output_type": "execute_result"
    }
   ],
   "source": [
    "to_str(bitwise_xor(bad_guess, xor_ciphertext[:len(bad_guess)]))"
   ]
  },
  {
   "attachments": {},
   "cell_type": "markdown",
   "metadata": {},
   "source": [
    "Try guess at the next position (which should result in garbage text)."
   ]
  },
  {
   "cell_type": "code",
   "execution_count": 20,
   "metadata": {},
   "outputs": [
    {
     "data": {
      "text/plain": [
       "'´¸ñ'"
      ]
     },
     "execution_count": 20,
     "metadata": {},
     "output_type": "execute_result"
    }
   ],
   "source": [
    "pos = 1\n",
    "to_str(bitwise_xor(guess, xor_ciphertext[pos:len(guess) + 1])) # Fiddly slice, but will work."
   ]
  },
  {
   "attachments": {},
   "cell_type": "markdown",
   "metadata": {},
   "source": [
    "Try happy path for next few guesses."
   ]
  },
  {
   "cell_type": "code",
   "execution_count": 17,
   "metadata": {},
   "outputs": [
    {
     "data": {
      "text/plain": [
       "'48656c6c6f'"
      ]
     },
     "execution_count": 17,
     "metadata": {},
     "output_type": "execute_result"
    }
   ],
   "source": [
    "next_guess = to_hex(\"Hello\")\n",
    "next_guess"
   ]
  },
  {
   "cell_type": "code",
   "execution_count": 18,
   "metadata": {},
   "outputs": [
    {
     "data": {
      "text/plain": [
       "'the p'"
      ]
     },
     "execution_count": 18,
     "metadata": {},
     "output_type": "execute_result"
    }
   ],
   "source": [
    "to_str(bitwise_xor(next_guess, xor_ciphertext[:len(next_guess)]))"
   ]
  },
  {
   "cell_type": "code",
   "execution_count": 19,
   "metadata": {},
   "outputs": [
    {
     "data": {
      "text/plain": [
       "'the program'"
      ]
     },
     "execution_count": 19,
     "metadata": {},
     "output_type": "execute_result"
    }
   ],
   "source": [
    "to_str(bitwise_xor(to_hex(\"Hello World\"), xor_ciphertext))"
   ]
  },
  {
   "cell_type": "code",
   "execution_count": null,
   "metadata": {},
   "outputs": [],
   "source": []
  }
 ],
 "metadata": {
  "kernelspec": {
   "display_name": "Python 3",
   "language": "python",
   "name": "python3"
  },
  "language_info": {
   "codemirror_mode": {
    "name": "ipython",
    "version": 3
   },
   "file_extension": ".py",
   "mimetype": "text/x-python",
   "name": "python",
   "nbconvert_exporter": "python",
   "pygments_lexer": "ipython3",
   "version": "3.11.3"
  },
  "orig_nbformat": 4
 },
 "nbformat": 4,
 "nbformat_minor": 2
}
