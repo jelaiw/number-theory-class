{
 "cells": [
  {
   "cell_type": "code",
   "execution_count": 1,
   "metadata": {},
   "outputs": [],
   "source": [
    "import sympy"
   ]
  },
  {
   "cell_type": "code",
   "execution_count": 2,
   "metadata": {},
   "outputs": [],
   "source": [
    "N = 77"
   ]
  },
  {
   "cell_type": "code",
   "execution_count": 3,
   "metadata": {},
   "outputs": [
    {
     "data": {
      "text/latex": [
       "$\\displaystyle 60$"
      ],
      "text/plain": [
       "60"
      ]
     },
     "execution_count": 3,
     "metadata": {},
     "output_type": "execute_result"
    }
   ],
   "source": [
    "sympy.totient(N)"
   ]
  },
  {
   "cell_type": "code",
   "execution_count": 4,
   "metadata": {},
   "outputs": [],
   "source": [
    "import math"
   ]
  },
  {
   "cell_type": "code",
   "execution_count": 6,
   "metadata": {},
   "outputs": [
    {
     "name": "stdout",
     "output_type": "stream",
     "text": [
      "7 is not coprime with 77.\n",
      "11 is not coprime with 77.\n",
      "14 is not coprime with 77.\n",
      "21 is not coprime with 77.\n",
      "22 is not coprime with 77.\n",
      "28 is not coprime with 77.\n",
      "33 is not coprime with 77.\n",
      "35 is not coprime with 77.\n",
      "42 is not coprime with 77.\n",
      "44 is not coprime with 77.\n",
      "49 is not coprime with 77.\n",
      "55 is not coprime with 77.\n",
      "56 is not coprime with 77.\n",
      "63 is not coprime with 77.\n",
      "66 is not coprime with 77.\n",
      "70 is not coprime with 77.\n",
      "60\n"
     ]
    }
   ],
   "source": [
    "count = 0\n",
    "for i in range(1, N):\n",
    "    if math.gcd(i, N) == 1: # coprime\n",
    "        count += 1\n",
    "    else:\n",
    "        print(f\"{i} is not coprime with {N}.\")\n",
    "\n",
    "print(count)"
   ]
  },
  {
   "cell_type": "code",
   "execution_count": null,
   "metadata": {},
   "outputs": [],
   "source": []
  }
 ],
 "metadata": {
  "kernelspec": {
   "display_name": "Python 3",
   "language": "python",
   "name": "python3"
  },
  "language_info": {
   "codemirror_mode": {
    "name": "ipython",
    "version": 3
   },
   "file_extension": ".py",
   "mimetype": "text/x-python",
   "name": "python",
   "nbconvert_exporter": "python",
   "pygments_lexer": "ipython3",
   "version": "3.11.3"
  },
  "orig_nbformat": 4
 },
 "nbformat": 4,
 "nbformat_minor": 2
}
