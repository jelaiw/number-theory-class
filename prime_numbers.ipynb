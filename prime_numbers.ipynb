{
 "cells": [
  {
   "cell_type": "code",
   "execution_count": 6,
   "metadata": {},
   "outputs": [],
   "source": [
    "# Finds the smallest divisor>1 of the given integer m>1\n",
    "def min_divisor(m):\n",
    "    assert m > 1\n",
    "    for d in range(2, m + 1):\n",
    "        if m % d == 0:\n",
    "            return d\n",
    "        # optimization:\n",
    "        if d * d > m:\n",
    "            return m"
   ]
  },
  {
   "cell_type": "code",
   "execution_count": 7,
   "metadata": {},
   "outputs": [
    {
     "name": "stdout",
     "output_type": "stream",
     "text": [
      "\n",
      "The smallest divisor of 2 is 2 (hence, 2 is prime)\n",
      "The smallest divisor of 3 is 3 (hence, 3 is prime)\n",
      "The smallest divisor of 4 is 2\n",
      "The smallest divisor of 5 is 5 (hence, 5 is prime)\n",
      "The smallest divisor of 6 is 2\n",
      "The smallest divisor of 7 is 7 (hence, 7 is prime)\n",
      "The smallest divisor of 8 is 2\n",
      "The smallest divisor of 9 is 3\n",
      "The smallest divisor of 10 is 2\n",
      "The smallest divisor of 11 is 11 (hence, 11 is prime)\n",
      "The smallest divisor of 12 is 2\n",
      "The smallest divisor of 13 is 13 (hence, 13 is prime)\n",
      "The smallest divisor of 14 is 2\n",
      "The smallest divisor of 15 is 3\n",
      "The smallest divisor of 16 is 2\n",
      "The smallest divisor of 17 is 17 (hence, 17 is prime)\n",
      "The smallest divisor of 18 is 2\n",
      "The smallest divisor of 19 is 19 (hence, 19 is prime)\n",
      "The smallest divisor of 20 is 2\n",
      "The smallest divisor of 21 is 3\n",
      "The smallest divisor of 22 is 2\n",
      "The smallest divisor of 23 is 23 (hence, 23 is prime)\n",
      "The smallest divisor of 24 is 2"
     ]
    }
   ],
   "source": [
    "for i in range (2, 25):\n",
    "    divisor = min_divisor(i)\n",
    "    print(f'\\nThe smallest divisor of {i} is {divisor}', end='')\n",
    "    if divisor == i:\n",
    "        print(f' (hence, {i} is prime)', end='')"
   ]
  },
  {
   "cell_type": "code",
   "execution_count": 8,
   "metadata": {},
   "outputs": [],
   "source": [
    "def is_prime(m):\n",
    "    return m == min_divisor(m)"
   ]
  },
  {
   "cell_type": "code",
   "execution_count": 9,
   "metadata": {},
   "outputs": [],
   "source": [
    "def primes_list(n):\n",
    "    lst = []\n",
    "    boundary = 2\n",
    "    # primes < boundary are in lst\n",
    "    while len(lst) < n:\n",
    "        if is_prime(boundary):\n",
    "            lst.append(boundary)\n",
    "        boundary += 1\n",
    "\n",
    "    return lst"
   ]
  },
  {
   "cell_type": "code",
   "execution_count": 10,
   "metadata": {},
   "outputs": [
    {
     "name": "stdout",
     "output_type": "stream",
     "text": [
      "The first ten primes:\n",
      "[2, 3, 5, 7, 11, 13, 17, 19, 23, 29]\n"
     ]
    }
   ],
   "source": [
    "print('The first ten primes:')\n",
    "print(primes_list(10))"
   ]
  },
  {
   "cell_type": "code",
   "execution_count": null,
   "metadata": {},
   "outputs": [],
   "source": []
  }
 ],
 "metadata": {
  "kernelspec": {
   "display_name": "Python 3",
   "language": "python",
   "name": "python3"
  },
  "language_info": {
   "codemirror_mode": {
    "name": "ipython",
    "version": 3
   },
   "file_extension": ".py",
   "mimetype": "text/x-python",
   "name": "python",
   "nbconvert_exporter": "python",
   "pygments_lexer": "ipython3",
   "version": "3.10.4"
  },
  "orig_nbformat": 4
 },
 "nbformat": 4,
 "nbformat_minor": 2
}
