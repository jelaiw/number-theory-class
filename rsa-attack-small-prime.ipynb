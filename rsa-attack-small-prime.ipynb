{
 "cells": [
  {
   "cell_type": "markdown",
   "metadata": {},
   "source": [
    "Borrow some functions from earlier code exercises (integer factorization)."
   ]
  },
  {
   "cell_type": "code",
   "execution_count": 1,
   "metadata": {},
   "outputs": [],
   "source": [
    "# Finds the smallest divisor>1 of the given integer m>1\n",
    "def min_divisor(m):\n",
    "    assert m > 1\n",
    "    for d in range(2, m + 1):\n",
    "        if m % d == 0:\n",
    "            return d\n",
    "        # optimization: Stop when d > sqrt(m).\n",
    "        if d * d > m:\n",
    "            return m"
   ]
  },
  {
   "cell_type": "code",
   "execution_count": 2,
   "metadata": {},
   "outputs": [],
   "source": [
    "def is_prime(m):\n",
    "    return m == min_divisor(m)"
   ]
  },
  {
   "cell_type": "code",
   "execution_count": 3,
   "metadata": {},
   "outputs": [],
   "source": [
    "def primes_list(n):\n",
    "    primes = []\n",
    "    boundary = 2\n",
    "    # primes < boundary are in lst\n",
    "    while len(primes) < n:\n",
    "        if is_prime(boundary):\n",
    "            primes.append(boundary)\n",
    "        boundary += 1\n",
    "\n",
    "    return primes"
   ]
  },
  {
   "attachments": {},
   "cell_type": "markdown",
   "metadata": {},
   "source": [
    "See https://en.wikipedia.org/wiki/List_of_prime_numbers."
   ]
  },
  {
   "cell_type": "code",
   "execution_count": 4,
   "metadata": {},
   "outputs": [],
   "source": [
    "primes = primes_list(1000)"
   ]
  },
  {
   "cell_type": "code",
   "execution_count": 5,
   "metadata": {},
   "outputs": [
    {
     "name": "stdout",
     "output_type": "stream",
     "text": [
      "7919\n"
     ]
    }
   ],
   "source": [
    "print(primes[999])"
   ]
  },
  {
   "cell_type": "markdown",
   "metadata": {},
   "source": [
    "Small prime from instructor example is 101, which is in our list of first thousand primes."
   ]
  },
  {
   "cell_type": "code",
   "execution_count": 6,
   "metadata": {},
   "outputs": [],
   "source": [
    "n = 101 * 18298970732541109011012304219376080251334480295537316123696052970419466495220522723330315111017831737980079504337868198011077274303193766040393009648852841770668239779097280026631944319501437547002412556176186750790476901358334138818777298389724049250700606462316428106882097210008142941838672676714188593227684360287806974345181893018133710957167334490627178666071809992955566020058374505477745993383434501768887090900283569055646901291270870833498474402084748161755197005050874785474707550376333429671113753137201128897550014524209754619355308207537703754006699795711188492048286436285518105948050401762394690148387\n",
    "e = 239"
   ]
  },
  {
   "cell_type": "code",
   "execution_count": 17,
   "metadata": {},
   "outputs": [],
   "source": [
    "import util"
   ]
  },
  {
   "cell_type": "code",
   "execution_count": 18,
   "metadata": {},
   "outputs": [
    {
     "data": {
      "text/plain": [
       "107152796640107"
      ]
     },
     "execution_count": 18,
     "metadata": {},
     "output_type": "execute_result"
    }
   ],
   "source": [
    "m = util.ConvertToInt(\"attack\")\n",
    "m"
   ]
  },
  {
   "cell_type": "code",
   "execution_count": 10,
   "metadata": {},
   "outputs": [
    {
     "data": {
      "text/plain": [
       "1773488865857950936127070415107286811735036786757360876488901668828411065415319121739305112809023074111043494948978081751851444797671426477224221428915534085499185651993502038149646686545099252921036161028865989784470806731700777521041215564203613423323285066203840329997825032261425978638927438518035030191944107572667758243311046550229409822846149831396410991755012812007339251536452615590635223780672174679677196279304461931703846255925914845500897273821827255506913276266523704922524156943959725369352703672131222283682166791913172292046709244906816668026610802197814114770298014914576347693504969280551524366327904"
      ]
     },
     "execution_count": 10,
     "metadata": {},
     "output_type": "execute_result"
    }
   ],
   "source": [
    "c = pow(m, e, n)\n",
    "c"
   ]
  },
  {
   "cell_type": "markdown",
   "metadata": {},
   "source": [
    "Find p and q by attacking the small prime."
   ]
  },
  {
   "cell_type": "code",
   "execution_count": 11,
   "metadata": {},
   "outputs": [
    {
     "name": "stdout",
     "output_type": "stream",
     "text": [
      "101\n",
      "18298970732541109011012304219376080251334480295537316123696052970419466495220522723330315111017831737980079504337868198011077274303193766040393009648852841770668239779097280026631944319501437547002412556176186750790476901358334138818777298389724049250700606462316428106882097210008142941838672676714188593227684360287806974345181893018133710957167334490627178666071809992955566020058374505477745993383434501768887090900283569055646901291270870833498474402084748161755197005050874785474707550376333429671113753137201128897550014524209754619355308207537703754006699795711188492048286436285518105948050401762394690148387\n"
     ]
    }
   ],
   "source": [
    "for prime in primes:\n",
    "    if n % prime == 0:\n",
    "        small_prime = prime\n",
    "        big_prime = n // small_prime\n",
    "        print(small_prime)\n",
    "        print(big_prime)"
   ]
  },
  {
   "cell_type": "code",
   "execution_count": 12,
   "metadata": {},
   "outputs": [],
   "source": [
    "p = 101\n",
    "q = 18298970732541109011012304219376080251334480295537316123696052970419466495220522723330315111017831737980079504337868198011077274303193766040393009648852841770668239779097280026631944319501437547002412556176186750790476901358334138818777298389724049250700606462316428106882097210008142941838672676714188593227684360287806974345181893018133710957167334490627178666071809992955566020058374505477745993383434501768887090900283569055646901291270870833498474402084748161755197005050874785474707550376333429671113753137201128897550014524209754619355308207537703754006699795711188492048286436285518105948050401762394690148387"
   ]
  },
  {
   "cell_type": "code",
   "execution_count": 13,
   "metadata": {},
   "outputs": [
    {
     "data": {
      "text/plain": [
       "1829897073254110901101230421937608025133448029553731612369605297041946649522052272333031511101783173798007950433786819801107727430319376604039300964885284177066823977909728002663194431950143754700241255617618675079047690135833413881877729838972404925070060646231642810688209721000814294183867267671418859322768436028780697434518189301813371095716733449062717866607180999295556602005837450547774599338343450176888709090028356905564690129127087083349847440208474816175519700505087478547470755037633342967111375313720112889755001452420975461935530820753770375400669979571118849204828643628551810594805040176239469014838600"
      ]
     },
     "execution_count": 13,
     "metadata": {},
     "output_type": "execute_result"
    }
   ],
   "source": [
    "phi = (p - 1) * (q - 1)\n",
    "phi"
   ]
  },
  {
   "cell_type": "code",
   "execution_count": 14,
   "metadata": {},
   "outputs": [
    {
     "data": {
      "text/plain": [
       "467044859700840020783159229030100793025691756496977524496008046525350400087218362394623105343969764023759351365945589991077704490583606580947269283924695961510779341642231833315710712757149661241484169843827360585028908361028611911274232301997141005980224683766235194359752271887237121109689972083500210956857215890190889303370751244395881325685024018380024225368360004004305241516134244700478035814388914061883729098291756365018602919986411347633224660471619095341869044898788017537220569277387589627589095791367894921652950161496566958904047615338828422173392756292210250215458356742015315674824717367157354016339559"
      ]
     },
     "execution_count": 14,
     "metadata": {},
     "output_type": "execute_result"
    }
   ],
   "source": [
    "d = pow(e, -1, phi)\n",
    "d"
   ]
  },
  {
   "cell_type": "code",
   "execution_count": 15,
   "metadata": {},
   "outputs": [],
   "source": [
    "assert d * e % phi == 1"
   ]
  },
  {
   "cell_type": "code",
   "execution_count": 19,
   "metadata": {},
   "outputs": [
    {
     "data": {
      "text/plain": [
       "'attack'"
      ]
     },
     "execution_count": 19,
     "metadata": {},
     "output_type": "execute_result"
    }
   ],
   "source": [
    "util.ConvertToStr(pow(c, d, n))"
   ]
  },
  {
   "cell_type": "code",
   "execution_count": null,
   "metadata": {},
   "outputs": [],
   "source": []
  }
 ],
 "metadata": {
  "kernelspec": {
   "display_name": "Python 3",
   "language": "python",
   "name": "python3"
  },
  "language_info": {
   "codemirror_mode": {
    "name": "ipython",
    "version": 3
   },
   "file_extension": ".py",
   "mimetype": "text/x-python",
   "name": "python",
   "nbconvert_exporter": "python",
   "pygments_lexer": "ipython3",
   "version": "3.11.3"
  },
  "orig_nbformat": 4
 },
 "nbformat": 4,
 "nbformat_minor": 2
}
