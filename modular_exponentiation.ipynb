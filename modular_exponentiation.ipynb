{
 "cells": [
  {
   "cell_type": "code",
   "execution_count": 1,
   "metadata": {},
   "outputs": [],
   "source": [
    "def fast_modular_exponentiation(b, e, m):\n",
    "    assert m > 0 and e >= 0\n",
    "    print(f\"b = {b} e = {e} m = {m}\")\n",
    "    if e == 0:\n",
    "        return 1\n",
    "    if e == 1:\n",
    "        return b\n",
    "    if e % 2 == 0:\n",
    "        return fast_modular_exponentiation((b * b) % m, e // 2, m)\n",
    "    else:\n",
    "        return (fast_modular_exponentiation(b, e - 1, m) * b) % m\n"
   ]
  },
  {
   "attachments": {},
   "cell_type": "markdown",
   "metadata": {},
   "source": [
    "Estimate upper bound for number of multiplications.\n",
    "\n",
    "$x^n$ (for some $n > 1$) can be computed in at most $2\\ log_{2}\\ n$ multiplications."
   ]
  },
  {
   "cell_type": "code",
   "execution_count": 3,
   "metadata": {},
   "outputs": [
    {
     "data": {
      "text/plain": [
       "8.082149041353873"
      ]
     },
     "execution_count": 3,
     "metadata": {},
     "output_type": "execute_result"
    }
   ],
   "source": [
    "import math\n",
    "math.log(271, 2)"
   ]
  },
  {
   "cell_type": "code",
   "execution_count": 2,
   "metadata": {},
   "outputs": [
    {
     "name": "stdout",
     "output_type": "stream",
     "text": [
      "b = 314 e = 271 m = 123\n",
      "b = 314 e = 270 m = 123\n",
      "b = 73 e = 135 m = 123\n",
      "b = 73 e = 134 m = 123\n",
      "b = 40 e = 67 m = 123\n",
      "b = 40 e = 66 m = 123\n",
      "b = 1 e = 33 m = 123\n",
      "b = 1 e = 32 m = 123\n",
      "b = 1 e = 16 m = 123\n",
      "b = 1 e = 8 m = 123\n",
      "b = 1 e = 4 m = 123\n",
      "b = 1 e = 2 m = 123\n",
      "b = 1 e = 1 m = 123\n"
     ]
    },
    {
     "data": {
      "text/plain": [
       "38"
      ]
     },
     "execution_count": 2,
     "metadata": {},
     "output_type": "execute_result"
    }
   ],
   "source": [
    "fast_modular_exponentiation(314, 271, 123)"
   ]
  },
  {
   "cell_type": "code",
   "execution_count": 3,
   "metadata": {},
   "outputs": [
    {
     "data": {
      "text/plain": [
       "32073907"
      ]
     },
     "execution_count": 3,
     "metadata": {},
     "output_type": "execute_result"
    }
   ],
   "source": [
    "fast_modular_exponentiation(314159265358, 2718281828, 123456789)"
   ]
  },
  {
   "cell_type": "code",
   "execution_count": 4,
   "metadata": {},
   "outputs": [],
   "source": [
    "b = 314159265358\n",
    "e = 2718281828\n",
    "m = 123456789\n",
    "assert fast_modular_exponentiation(b, e, m) == pow(b, e, m)"
   ]
  },
  {
   "cell_type": "code",
   "execution_count": null,
   "metadata": {},
   "outputs": [],
   "source": []
  }
 ],
 "metadata": {
  "kernelspec": {
   "display_name": "Python 3",
   "language": "python",
   "name": "python3"
  },
  "language_info": {
   "codemirror_mode": {
    "name": "ipython",
    "version": 3
   },
   "file_extension": ".py",
   "mimetype": "text/x-python",
   "name": "python",
   "nbconvert_exporter": "python",
   "pygments_lexer": "ipython3",
   "version": "3.10.4"
  },
  "orig_nbformat": 4
 },
 "nbformat": 4,
 "nbformat_minor": 2
}
