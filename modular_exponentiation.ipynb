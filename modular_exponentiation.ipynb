{
 "cells": [
  {
   "attachments": {},
   "cell_type": "markdown",
   "metadata": {},
   "source": [
    "## Reading: Modular Exponentiation"
   ]
  },
  {
   "cell_type": "code",
   "execution_count": 5,
   "metadata": {},
   "outputs": [],
   "source": [
    "def fast_modular_exponentiation(b, e, m):\n",
    "    assert m > 0 and e >= 0\n",
    "#    print(f\"b = {b} e = {e} m = {m}\")\n",
    "    if e == 0:\n",
    "        return 1\n",
    "    if e == 1:\n",
    "        return b\n",
    "    if e % 2 == 0:\n",
    "        return fast_modular_exponentiation((b * b) % m, e // 2, m)\n",
    "    else:\n",
    "        return (fast_modular_exponentiation(b, e - 1, m) * b) % m\n"
   ]
  },
  {
   "attachments": {},
   "cell_type": "markdown",
   "metadata": {},
   "source": [
    "Estimate upper bound for number of multiplications.\n",
    "\n",
    "$x^n$ (for some $n > 1$) can be computed in at most $2\\ log_{2}\\ n$ multiplications."
   ]
  },
  {
   "cell_type": "code",
   "execution_count": 3,
   "metadata": {},
   "outputs": [
    {
     "data": {
      "text/plain": [
       "8.082149041353873"
      ]
     },
     "execution_count": 3,
     "metadata": {},
     "output_type": "execute_result"
    }
   ],
   "source": [
    "import math\n",
    "math.log(271, 2)"
   ]
  },
  {
   "attachments": {},
   "cell_type": "markdown",
   "metadata": {},
   "source": [
    "$314^{271}\\ mod\\ 123$"
   ]
  },
  {
   "cell_type": "code",
   "execution_count": 2,
   "metadata": {},
   "outputs": [
    {
     "name": "stdout",
     "output_type": "stream",
     "text": [
      "b = 314 e = 271 m = 123\n",
      "b = 314 e = 270 m = 123\n",
      "b = 73 e = 135 m = 123\n",
      "b = 73 e = 134 m = 123\n",
      "b = 40 e = 67 m = 123\n",
      "b = 40 e = 66 m = 123\n",
      "b = 1 e = 33 m = 123\n",
      "b = 1 e = 32 m = 123\n",
      "b = 1 e = 16 m = 123\n",
      "b = 1 e = 8 m = 123\n",
      "b = 1 e = 4 m = 123\n",
      "b = 1 e = 2 m = 123\n",
      "b = 1 e = 1 m = 123\n"
     ]
    },
    {
     "data": {
      "text/plain": [
       "38"
      ]
     },
     "execution_count": 2,
     "metadata": {},
     "output_type": "execute_result"
    }
   ],
   "source": [
    "fast_modular_exponentiation(314, 271, 123)"
   ]
  },
  {
   "cell_type": "code",
   "execution_count": 8,
   "metadata": {},
   "outputs": [
    {
     "data": {
      "text/plain": [
       "32073907"
      ]
     },
     "execution_count": 8,
     "metadata": {},
     "output_type": "execute_result"
    }
   ],
   "source": [
    "fast_modular_exponentiation(314159265358, 2718281828, 123456789)"
   ]
  },
  {
   "attachments": {},
   "cell_type": "markdown",
   "metadata": {},
   "source": [
    "$314159265358^{2718281828}\\ mod\\ 123456789$\n"
   ]
  },
  {
   "cell_type": "code",
   "execution_count": 4,
   "metadata": {},
   "outputs": [],
   "source": [
    "b = 314159265358\n",
    "e = 2718281828\n",
    "m = 123456789\n",
    "assert fast_modular_exponentiation(b, e, m) == pow(b, e, m)"
   ]
  },
  {
   "attachments": {},
   "cell_type": "markdown",
   "metadata": {},
   "source": [
    "The number of multiplications when computing $x^n$ (for $n >= 1$) with this function/method using binary notation is:\n",
    "\n",
    "*(number of bits in $n$) + (number of ones in $n$) - 2*\n",
    "\n",
    "where counting the bit and ones in $n$ we use the binary representation of $n$."
   ]
  },
  {
   "cell_type": "code",
   "execution_count": 4,
   "metadata": {},
   "outputs": [
    {
     "data": {
      "text/plain": [
       "'0b1001101'"
      ]
     },
     "execution_count": 4,
     "metadata": {},
     "output_type": "execute_result"
    }
   ],
   "source": [
    "bin(77)"
   ]
  },
  {
   "attachments": {},
   "cell_type": "markdown",
   "metadata": {},
   "source": [
    "## Reading: Fast Modular Exponentiation\n",
    "$b_i = b^{2^i} mod\\ m$"
   ]
  },
  {
   "cell_type": "code",
   "execution_count": 3,
   "metadata": {},
   "outputs": [],
   "source": [
    "# Return b_i array (list) where range of index \"i\" is from 0 to k.\n",
    "def bkm(b, k, m):\n",
    "    x = [ b % m ]\n",
    "    for i in range(1, k + 1):\n",
    "        b_i = x[i-1] * x[i-1] % m\n",
    "        x.append(b_i)\n",
    "    return x"
   ]
  },
  {
   "cell_type": "code",
   "execution_count": 4,
   "metadata": {},
   "outputs": [],
   "source": [
    "# Check b_i array. Same example, but with a power of 2 exponent.\n",
    "assert bkm(314, 256, 123)[256] == pow(314, 256, 123)"
   ]
  },
  {
   "cell_type": "code",
   "execution_count": 5,
   "metadata": {},
   "outputs": [],
   "source": [
    "def bem(b, e, m):\n",
    "    assert e >= 0 and m > 0\n",
    "    e_i = bin(e)[2:] # Remove \"0b\" prefix.\n",
    "    e_i = e_i[::-1] # Reverse string such that e_0 is first.\n",
    "\n",
    "    product = 1\n",
    "    k = len(e_i)\n",
    "    b_i = bkm(b, k, m)\n",
    "    for i, val in enumerate(e_i):\n",
    "        if val == \"1\":\n",
    "            product = product * b_i[i] % m\n",
    "    \n",
    "    return product\n"
   ]
  },
  {
   "cell_type": "code",
   "execution_count": 7,
   "metadata": {},
   "outputs": [],
   "source": [
    "assert bem(314, 271, 123) == pow(314, 271, 123)"
   ]
  },
  {
   "cell_type": "code",
   "execution_count": 8,
   "metadata": {},
   "outputs": [],
   "source": [
    "b = 314159265358\n",
    "e = 2718281828\n",
    "m = 123456789\n",
    "assert bem(b, e, m) == pow(b, e, m)"
   ]
  },
  {
   "attachments": {},
   "cell_type": "markdown",
   "metadata": {},
   "source": [
    "## Fast Exponentiation Example: Square-and-Multiply\n",
    "See Listing 10-5 in Serious Cryptography book (Aumasson 2018) for pseudocode."
   ]
  },
  {
   "cell_type": "code",
   "execution_count": 1,
   "metadata": {},
   "outputs": [],
   "source": [
    "def expMod(x, e, n):\n",
    "    e_i = bin(e)[2:]\n",
    "    m = len(e_i) # Bit length of the exponent.\n",
    "\n",
    "    y = x\n",
    "    for i in range(m - 2, -1, -1):\n",
    "        y = y * y % n\n",
    "        if e_i[i] == '1':\n",
    "            y = y * x % n\n",
    "    return y"
   ]
  },
  {
   "attachments": {},
   "cell_type": "markdown",
   "metadata": {},
   "source": [
    "$3^{65537}\\ mod\\ 36567232109354321$"
   ]
  },
  {
   "cell_type": "code",
   "execution_count": null,
   "metadata": {},
   "outputs": [
    {
     "data": {
      "text/plain": [
       "26652909283612267"
      ]
     },
     "execution_count": 11,
     "metadata": {},
     "output_type": "execute_result"
    }
   ],
   "source": [
    "expMod(3, 65537, 36567232109354321)"
   ]
  },
  {
   "cell_type": "code",
   "execution_count": 3,
   "metadata": {},
   "outputs": [
    {
     "name": "stdout",
     "output_type": "stream",
     "text": [
      "\u001b[0;31mInit signature:\u001b[0m \u001b[0mrange\u001b[0m\u001b[0;34m(\u001b[0m\u001b[0mself\u001b[0m\u001b[0;34m,\u001b[0m \u001b[0;34m/\u001b[0m\u001b[0;34m,\u001b[0m \u001b[0;34m*\u001b[0m\u001b[0margs\u001b[0m\u001b[0;34m,\u001b[0m \u001b[0;34m**\u001b[0m\u001b[0mkwargs\u001b[0m\u001b[0;34m)\u001b[0m\u001b[0;34m\u001b[0m\u001b[0;34m\u001b[0m\u001b[0m\n",
      "\u001b[0;31mDocstring:\u001b[0m     \n",
      "range(stop) -> range object\n",
      "range(start, stop[, step]) -> range object\n",
      "\n",
      "Return an object that produces a sequence of integers from start (inclusive)\n",
      "to stop (exclusive) by step.  range(i, j) produces i, i+1, i+2, ..., j-1.\n",
      "start defaults to 0, and stop is omitted!  range(4) produces 0, 1, 2, 3.\n",
      "These are exactly the valid indices for a list of 4 elements.\n",
      "When step is given, it specifies the increment (or decrement).\n",
      "\u001b[0;31mType:\u001b[0m           type\n",
      "\u001b[0;31mSubclasses:\u001b[0m     "
     ]
    }
   ],
   "source": [
    "?range"
   ]
  }
 ],
 "metadata": {
  "kernelspec": {
   "display_name": "Python 3",
   "language": "python",
   "name": "python3"
  },
  "language_info": {
   "codemirror_mode": {
    "name": "ipython",
    "version": 3
   },
   "file_extension": ".py",
   "mimetype": "text/x-python",
   "name": "python",
   "nbconvert_exporter": "python",
   "pygments_lexer": "ipython3",
   "version": "3.10.4"
  },
  "orig_nbformat": 4
 },
 "nbformat": 4,
 "nbformat_minor": 2
}
