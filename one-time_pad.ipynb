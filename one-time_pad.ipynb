{
 "cells": [
  {
   "cell_type": "code",
   "execution_count": 2,
   "metadata": {},
   "outputs": [],
   "source": [
    "def encode(plain_text, private_key):\n",
    "    assert plain_text in {0, 1} and private_key in {0, 1}\n",
    "    return plain_text ^ private_key"
   ]
  },
  {
   "cell_type": "code",
   "execution_count": 3,
   "metadata": {},
   "outputs": [],
   "source": [
    "def decode(cipher_text, private_key):\n",
    "    assert cipher_text in {0, 1} and private_key in {0, 1}\n",
    "    return cipher_text ^ private_key"
   ]
  },
  {
   "cell_type": "code",
   "execution_count": 4,
   "metadata": {},
   "outputs": [],
   "source": [
    "from itertools import product"
   ]
  },
  {
   "cell_type": "code",
   "execution_count": 5,
   "metadata": {},
   "outputs": [
    {
     "name": "stdout",
     "output_type": "stream",
     "text": [
      "\u001b[0;31mInit signature:\u001b[0m \u001b[0mproduct\u001b[0m\u001b[0;34m(\u001b[0m\u001b[0mself\u001b[0m\u001b[0;34m,\u001b[0m \u001b[0;34m/\u001b[0m\u001b[0;34m,\u001b[0m \u001b[0;34m*\u001b[0m\u001b[0margs\u001b[0m\u001b[0;34m,\u001b[0m \u001b[0;34m**\u001b[0m\u001b[0mkwargs\u001b[0m\u001b[0;34m)\u001b[0m\u001b[0;34m\u001b[0m\u001b[0;34m\u001b[0m\u001b[0m\n",
      "\u001b[0;31mDocstring:\u001b[0m     \n",
      "product(*iterables, repeat=1) --> product object\n",
      "\n",
      "Cartesian product of input iterables.  Equivalent to nested for-loops.\n",
      "\n",
      "For example, product(A, B) returns the same as:  ((x,y) for x in A for y in B).\n",
      "The leftmost iterators are in the outermost for-loop, so the output tuples\n",
      "cycle in a manner similar to an odometer (with the rightmost element changing\n",
      "on every iteration).\n",
      "\n",
      "To compute the product of an iterable with itself, specify the number\n",
      "of repetitions with the optional repeat keyword argument. For example,\n",
      "product(A, repeat=4) means the same as product(A, A, A, A).\n",
      "\n",
      "product('ab', range(3)) --> ('a',0) ('a',1) ('a',2) ('b',0) ('b',1) ('b',2)\n",
      "product((0,1), (0,1), (0,1)) --> (0,0,0) (0,0,1) (0,1,0) (0,1,1) (1,0,0) ...\n",
      "\u001b[0;31mType:\u001b[0m           type\n",
      "\u001b[0;31mSubclasses:\u001b[0m     "
     ]
    }
   ],
   "source": [
    "?product"
   ]
  },
  {
   "cell_type": "code",
   "execution_count": 6,
   "metadata": {},
   "outputs": [
    {
     "name": "stdout",
     "output_type": "stream",
     "text": [
      "key: 0, plaintext: 0, ciphertext: 0, decoded: 0\n",
      "key: 1, plaintext: 0, ciphertext: 1, decoded: 0\n",
      "key: 0, plaintext: 1, ciphertext: 1, decoded: 1\n",
      "key: 1, plaintext: 1, ciphertext: 0, decoded: 1\n"
     ]
    }
   ],
   "source": [
    "for plaintext, private_key in product({0, 1}, repeat=2):\n",
    "    ciphertext = encode(plaintext, private_key)\n",
    "    print(f'key: {private_key}, '\n",
    "          f'plaintext: {plaintext}, '\n",
    "          f'ciphertext: {ciphertext}, '\n",
    "          f'decoded: {decode(ciphertext, private_key)}')"
   ]
  },
  {
   "cell_type": "code",
   "execution_count": null,
   "metadata": {},
   "outputs": [],
   "source": []
  }
 ],
 "metadata": {
  "kernelspec": {
   "display_name": "Python 3",
   "language": "python",
   "name": "python3"
  },
  "language_info": {
   "codemirror_mode": {
    "name": "ipython",
    "version": 3
   },
   "file_extension": ".py",
   "mimetype": "text/x-python",
   "name": "python",
   "nbconvert_exporter": "python",
   "pygments_lexer": "ipython3",
   "version": "3.11.3"
  },
  "orig_nbformat": 4
 },
 "nbformat": 4,
 "nbformat_minor": 2
}
