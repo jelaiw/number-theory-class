{
 "cells": [
  {
   "cell_type": "code",
   "execution_count": 2,
   "metadata": {},
   "outputs": [],
   "source": [
    "def encode(plain_text, private_key):\n",
    "    assert plain_text in {0, 1} and private_key in {0, 1}\n",
    "    return plain_text ^ private_key"
   ]
  },
  {
   "cell_type": "code",
   "execution_count": 3,
   "metadata": {},
   "outputs": [],
   "source": [
    "def decode(cipher_text, private_key):\n",
    "    assert cipher_text in {0, 1} and private_key in {0, 1}\n",
    "    return cipher_text ^ private_key"
   ]
  },
  {
   "cell_type": "code",
   "execution_count": 4,
   "metadata": {},
   "outputs": [],
   "source": [
    "from itertools import product"
   ]
  },
  {
   "cell_type": "code",
   "execution_count": 5,
   "metadata": {},
   "outputs": [
    {
     "name": "stdout",
     "output_type": "stream",
     "text": [
      "\u001b[0;31mInit signature:\u001b[0m \u001b[0mproduct\u001b[0m\u001b[0;34m(\u001b[0m\u001b[0mself\u001b[0m\u001b[0;34m,\u001b[0m \u001b[0;34m/\u001b[0m\u001b[0;34m,\u001b[0m \u001b[0;34m*\u001b[0m\u001b[0margs\u001b[0m\u001b[0;34m,\u001b[0m \u001b[0;34m**\u001b[0m\u001b[0mkwargs\u001b[0m\u001b[0;34m)\u001b[0m\u001b[0;34m\u001b[0m\u001b[0;34m\u001b[0m\u001b[0m\n",
      "\u001b[0;31mDocstring:\u001b[0m     \n",
      "product(*iterables, repeat=1) --> product object\n",
      "\n",
      "Cartesian product of input iterables.  Equivalent to nested for-loops.\n",
      "\n",
      "For example, product(A, B) returns the same as:  ((x,y) for x in A for y in B).\n",
      "The leftmost iterators are in the outermost for-loop, so the output tuples\n",
      "cycle in a manner similar to an odometer (with the rightmost element changing\n",
      "on every iteration).\n",
      "\n",
      "To compute the product of an iterable with itself, specify the number\n",
      "of repetitions with the optional repeat keyword argument. For example,\n",
      "product(A, repeat=4) means the same as product(A, A, A, A).\n",
      "\n",
      "product('ab', range(3)) --> ('a',0) ('a',1) ('a',2) ('b',0) ('b',1) ('b',2)\n",
      "product((0,1), (0,1), (0,1)) --> (0,0,0) (0,0,1) (0,1,0) (0,1,1) (1,0,0) ...\n",
      "\u001b[0;31mType:\u001b[0m           type\n",
      "\u001b[0;31mSubclasses:\u001b[0m     "
     ]
    }
   ],
   "source": [
    "?product"
   ]
  },
  {
   "cell_type": "code",
   "execution_count": 6,
   "metadata": {},
   "outputs": [
    {
     "name": "stdout",
     "output_type": "stream",
     "text": [
      "key: 0, plaintext: 0, ciphertext: 0, decoded: 0\n",
      "key: 1, plaintext: 0, ciphertext: 1, decoded: 0\n",
      "key: 0, plaintext: 1, ciphertext: 1, decoded: 1\n",
      "key: 1, plaintext: 1, ciphertext: 0, decoded: 1\n"
     ]
    }
   ],
   "source": [
    "for plaintext, private_key in product({0, 1}, repeat=2):\n",
    "    ciphertext = encode(plaintext, private_key)\n",
    "    print(f'key: {private_key}, '\n",
    "          f'plaintext: {plaintext}, '\n",
    "          f'ciphertext: {ciphertext}, '\n",
    "          f'decoded: {decode(ciphertext, private_key)}')"
   ]
  },
  {
   "cell_type": "code",
   "execution_count": 1,
   "metadata": {},
   "outputs": [],
   "source": [
    "def to_hex(plain_text):\n",
    "    hex_codes = []\n",
    "    for symbol in plain_text:\n",
    "        hex_code = hex(ord(symbol)).replace('0x', '')\n",
    "        if len(hex_code) == 1:\n",
    "            hex_code = '0' + hex_code\n",
    "        hex_codes.append(hex_code)\n",
    "    return ''.join(hex_codes)"
   ]
  },
  {
   "cell_type": "code",
   "execution_count": 2,
   "metadata": {},
   "outputs": [],
   "source": [
    "def to_str(hex_code):\n",
    "    if hex_code:\n",
    "        return chr(int(hex_code[:2], base=16)) + to_str(hex_code[2:])\n",
    "    return ''"
   ]
  },
  {
   "cell_type": "code",
   "execution_count": 3,
   "metadata": {},
   "outputs": [
    {
     "name": "stdout",
     "output_type": "stream",
     "text": [
      "hex of Hello World is: 48656c6c6f20576f726c64\n"
     ]
    }
   ],
   "source": [
    "message = 'Hello World'\n",
    "print(f'hex of {message} is: {to_hex(message)}')"
   ]
  },
  {
   "cell_type": "code",
   "execution_count": 4,
   "metadata": {},
   "outputs": [
    {
     "name": "stdout",
     "output_type": "stream",
     "text": [
      "str of 736f6d65206d657373616765 is: some message\n"
     ]
    }
   ],
   "source": [
    "code = '736f6d65206d657373616765'\n",
    "print(f'str of {code} is: {to_str(code)}')"
   ]
  },
  {
   "cell_type": "code",
   "execution_count": 5,
   "metadata": {},
   "outputs": [],
   "source": [
    "def bitwise_xor(first_text, second_text):\n",
    "    assert len(first_text) == len(second_text)\n",
    "    return ''.join(format(int(s1, 16) ^ int(s2, 16), '01x')\n",
    "                   for s1, s2 in zip(first_text, second_text))"
   ]
  },
  {
   "cell_type": "code",
   "execution_count": 6,
   "metadata": {},
   "outputs": [
    {
     "name": "stdout",
     "output_type": "stream",
     "text": [
      "hex of secret message is: 736563726574206d657373616765\n",
      "6d7920736563726574206b657973\n"
     ]
    }
   ],
   "source": [
    "message = 'secret message'\n",
    "key =     'my secret keys'\n",
    "print(f'hex of {message} is: {to_hex(message)}')\n",
    "print(to_hex(key))"
   ]
  },
  {
   "cell_type": "code",
   "execution_count": 7,
   "metadata": {},
   "outputs": [
    {
     "name": "stdout",
     "output_type": "stream",
     "text": [
      "ciphertext: 1e1c430100175208115318041e16\n"
     ]
    }
   ],
   "source": [
    "ciphertext = bitwise_xor(to_hex(message), to_hex(key))\n",
    "print('ciphertext:', ciphertext)"
   ]
  },
  {
   "cell_type": "code",
   "execution_count": 8,
   "metadata": {},
   "outputs": [
    {
     "name": "stdout",
     "output_type": "stream",
     "text": [
      "recovered message: secret message\n"
     ]
    }
   ],
   "source": [
    "recovered_message = to_str(bitwise_xor(ciphertext, to_hex(key)))\n",
    "print('recovered message:', recovered_message)"
   ]
  },
  {
   "cell_type": "code",
   "execution_count": 9,
   "metadata": {},
   "outputs": [],
   "source": [
    "message1 = 'steal the secret'\n",
    "message2 = 'the boy the girl'\n",
    "key = 'supersecretverys'"
   ]
  },
  {
   "cell_type": "code",
   "execution_count": 10,
   "metadata": {},
   "outputs": [],
   "source": [
    "ciphertext1 = bitwise_xor(to_hex(message1), to_hex(key))\n",
    "ciphertext2 = bitwise_xor(to_hex(message2), to_hex(key))"
   ]
  },
  {
   "cell_type": "code",
   "execution_count": 11,
   "metadata": {},
   "outputs": [],
   "source": [
    "xor_ciphertexts = bitwise_xor(ciphertext1, ciphertext2)\n",
    "xor_messages = bitwise_xor(to_hex(message1), to_hex(message2))"
   ]
  },
  {
   "cell_type": "code",
   "execution_count": 12,
   "metadata": {},
   "outputs": [
    {
     "name": "stdout",
     "output_type": "stream",
     "text": [
      "071c00410e4f0d4811481645041b1718\n",
      "071c00410e4f0d4811481645041b1718\n"
     ]
    }
   ],
   "source": [
    "print(xor_ciphertexts)\n",
    "print(xor_messages)"
   ]
  },
  {
   "cell_type": "code",
   "execution_count": 13,
   "metadata": {},
   "outputs": [
    {
     "name": "stdout",
     "output_type": "stream",
     "text": [
      "Xor of the ciphertexts is the same as xor of messages\n"
     ]
    }
   ],
   "source": [
    "if xor_ciphertexts == xor_messages:\n",
    "    print('Xor of the ciphertexts is the same as xor of messages')\n",
    "else:\n",
    "    print('Xor of the ciphertexts differs from the xor of messages')"
   ]
  },
  {
   "cell_type": "code",
   "execution_count": 14,
   "metadata": {},
   "outputs": [],
   "source": [
    "def try_guessing_substring(substring, message_length, xor_messages):\n",
    "    good_guesses = []\n",
    "    for pos in range(message_length - len(substring) + 1):\n",
    "        guess = to_hex(chr(0) * pos + substring +\n",
    "                       chr(0) * (message_length - len(substring) - pos))\n",
    "        other_message_part = to_str(\n",
    "            bitwise_xor(guess, xor_messages)\n",
    "        )[pos:pos + len(substring)]\n",
    "        good_guess = True\n",
    "        for i in range(len(other_message_part)):\n",
    "            if not other_message_part[i].isalpha() and \\\n",
    "                    not other_message_part[i].isspace():\n",
    "                good_guess = False\n",
    "                break\n",
    "        if good_guess:\n",
    "            good_guesses.append((guess, pos, other_message_part))\n",
    "\n",
    "    print('Good guesses:')\n",
    "    for guess in good_guesses:\n",
    "        print(f'position: {guess[1]}, '\n",
    "              f'one message part: \\\"{substring}\\\", '\n",
    "              f'another message part: \\\"{guess[2]}\\\"')"
   ]
  },
  {
   "cell_type": "code",
   "execution_count": 15,
   "metadata": {},
   "outputs": [
    {
     "name": "stdout",
     "output_type": "stream",
     "text": [
      "Good guesses:\n",
      "position: 5, one message part: \" the \", another message part: \"oy th\"\n",
      "position: 7, one message part: \" the \", another message part: \"he se\"\n"
     ]
    }
   ],
   "source": [
    "try_guessing_substring(' the ', len(message1), xor_messages)"
   ]
  },
  {
   "cell_type": "code",
   "execution_count": 16,
   "metadata": {},
   "outputs": [
    {
     "name": "stdout",
     "output_type": "stream",
     "text": [
      "Good guesses:\n",
      "position: 5, one message part: \"oy the \", another message part: \" the se\"\n"
     ]
    }
   ],
   "source": [
    "try_guessing_substring('oy the ', len(message1), xor_messages)"
   ]
  },
  {
   "cell_type": "code",
   "execution_count": null,
   "metadata": {},
   "outputs": [],
   "source": []
  }
 ],
 "metadata": {
  "kernelspec": {
   "display_name": "Python 3",
   "language": "python",
   "name": "python3"
  },
  "language_info": {
   "codemirror_mode": {
    "name": "ipython",
    "version": 3
   },
   "file_extension": ".py",
   "mimetype": "text/x-python",
   "name": "python",
   "nbconvert_exporter": "python",
   "pygments_lexer": "ipython3",
   "version": "3.11.3"
  },
  "orig_nbformat": 4
 },
 "nbformat": 4,
 "nbformat_minor": 2
}
