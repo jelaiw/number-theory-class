{
 "cells": [
  {
   "attachments": {},
   "cell_type": "markdown",
   "metadata": {},
   "source": [
    "## Prime Numbers"
   ]
  },
  {
   "cell_type": "code",
   "execution_count": 1,
   "metadata": {},
   "outputs": [],
   "source": [
    "# Finds the smallest divisor>1 of the given integer m>1\n",
    "def min_divisor(m):\n",
    "    assert m > 1\n",
    "    for d in range(2, m + 1):\n",
    "        if m % d == 0:\n",
    "            return d\n",
    "        # optimization: Stop when d > sqrt(m).\n",
    "        if d * d > m:\n",
    "            return m"
   ]
  },
  {
   "cell_type": "code",
   "execution_count": 2,
   "metadata": {},
   "outputs": [
    {
     "name": "stdout",
     "output_type": "stream",
     "text": [
      "\n",
      "The smallest divisor of 2 is 2 (hence, 2 is prime)\n",
      "The smallest divisor of 3 is 3 (hence, 3 is prime)\n",
      "The smallest divisor of 4 is 2\n",
      "The smallest divisor of 5 is 5 (hence, 5 is prime)\n",
      "The smallest divisor of 6 is 2\n",
      "The smallest divisor of 7 is 7 (hence, 7 is prime)\n",
      "The smallest divisor of 8 is 2\n",
      "The smallest divisor of 9 is 3\n",
      "The smallest divisor of 10 is 2\n",
      "The smallest divisor of 11 is 11 (hence, 11 is prime)\n",
      "The smallest divisor of 12 is 2\n",
      "The smallest divisor of 13 is 13 (hence, 13 is prime)\n",
      "The smallest divisor of 14 is 2\n",
      "The smallest divisor of 15 is 3\n",
      "The smallest divisor of 16 is 2\n",
      "The smallest divisor of 17 is 17 (hence, 17 is prime)\n",
      "The smallest divisor of 18 is 2\n",
      "The smallest divisor of 19 is 19 (hence, 19 is prime)\n",
      "The smallest divisor of 20 is 2\n",
      "The smallest divisor of 21 is 3\n",
      "The smallest divisor of 22 is 2\n",
      "The smallest divisor of 23 is 23 (hence, 23 is prime)\n",
      "The smallest divisor of 24 is 2"
     ]
    }
   ],
   "source": [
    "for i in range (2, 25):\n",
    "    divisor = min_divisor(i)\n",
    "    print(f'\\nThe smallest divisor of {i} is {divisor}', end='')\n",
    "    if divisor == i:\n",
    "        print(f' (hence, {i} is prime)', end='')"
   ]
  },
  {
   "cell_type": "code",
   "execution_count": 3,
   "metadata": {},
   "outputs": [],
   "source": [
    "def is_prime(m):\n",
    "    return m == min_divisor(m)"
   ]
  },
  {
   "cell_type": "code",
   "execution_count": 4,
   "metadata": {},
   "outputs": [],
   "source": [
    "def primes_list(n):\n",
    "    primes = []\n",
    "    boundary = 2\n",
    "    # primes < boundary are in lst\n",
    "    while len(primes) < n:\n",
    "        if is_prime(boundary):\n",
    "            primes.append(boundary)\n",
    "        boundary += 1\n",
    "\n",
    "    return primes"
   ]
  },
  {
   "cell_type": "code",
   "execution_count": 5,
   "metadata": {},
   "outputs": [
    {
     "name": "stdout",
     "output_type": "stream",
     "text": [
      "The first ten primes:\n",
      "[2, 3, 5, 7, 11, 13, 17, 19, 23, 29]\n"
     ]
    }
   ],
   "source": [
    "print('The first ten primes:')\n",
    "print(primes_list(10))"
   ]
  },
  {
   "attachments": {},
   "cell_type": "markdown",
   "metadata": {},
   "source": [
    "## Factoring"
   ]
  },
  {
   "cell_type": "code",
   "execution_count": 6,
   "metadata": {},
   "outputs": [],
   "source": [
    "def factoring(m):\n",
    "    if is_prime(m):\n",
    "        return [m]\n",
    "    else:\n",
    "        divisor = min_divisor(m)\n",
    "        factors = factoring(m // divisor)\n",
    "        factors.append(divisor)\n",
    "        return factors"
   ]
  },
  {
   "cell_type": "code",
   "execution_count": 8,
   "metadata": {},
   "outputs": [
    {
     "name": "stdout",
     "output_type": "stream",
     "text": [
      "Factoring of 7: [7]\n",
      "Factoring of 60: [5, 3, 2, 2]\n",
      "Factoring of 1001: [13, 11, 7]\n",
      "Factoring of 4294967297: [6700417, 641]\n",
      "Factoring of 18446744073709551617: [67280421310721, 274177]\n",
      "Factoring of 358358: [179, 13, 11, 7, 2]\n"
     ]
    }
   ],
   "source": [
    "for i in (7, 60, 1001, 2 ** 32 + 1, 2 ** 64 + 1, 358358):\n",
    "    print(f'Factoring of {i}: {factoring(i)}')"
   ]
  },
  {
   "attachments": {},
   "cell_type": "markdown",
   "metadata": {},
   "source": [
    "Note the Fermat numbers $2^{32} + 1$ and $2^{64} + 1$."
   ]
  },
  {
   "cell_type": "code",
   "execution_count": 1,
   "metadata": {},
   "outputs": [
    {
     "name": "stdout",
     "output_type": "stream",
     "text": [
      "4294967297\n",
      "18446744073709551617\n"
     ]
    }
   ],
   "source": [
    "print(2**32 + 1)\n",
    "print(2**64 + 1)"
   ]
  },
  {
   "cell_type": "code",
   "execution_count": null,
   "metadata": {},
   "outputs": [],
   "source": []
  }
 ],
 "metadata": {
  "kernelspec": {
   "display_name": "Python 3",
   "language": "python",
   "name": "python3"
  },
  "language_info": {
   "codemirror_mode": {
    "name": "ipython",
    "version": 3
   },
   "file_extension": ".py",
   "mimetype": "text/x-python",
   "name": "python",
   "nbconvert_exporter": "python",
   "pygments_lexer": "ipython3",
   "version": "3.10.4"
  },
  "orig_nbformat": 4
 },
 "nbformat": 4,
 "nbformat_minor": 2
}
