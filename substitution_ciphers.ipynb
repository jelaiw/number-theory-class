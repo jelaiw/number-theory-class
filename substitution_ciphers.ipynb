{
 "cells": [
  {
   "attachments": {},
   "cell_type": "markdown",
   "metadata": {},
   "source": [
    "## First Example"
   ]
  },
  {
   "cell_type": "code",
   "execution_count": 1,
   "metadata": {},
   "outputs": [],
   "source": [
    "alphabet = 'abcdefghijklmnopqrstuvwxyz'\n",
    "key =      'jsuyfhkpicomxrqatlbvznewgd'\n"
   ]
  },
  {
   "cell_type": "code",
   "execution_count": 2,
   "metadata": {},
   "outputs": [],
   "source": [
    "def substitute(text, substitute_what, substitute_by):\n",
    "    result = ''\n",
    "    for symbol in text.lower():\n",
    "        if symbol in substitute_what:\n",
    "            result += substitute_by[substitute_what.index(symbol)]\n",
    "        else:\n",
    "            result += symbol\n",
    "\n",
    "    return result"
   ]
  },
  {
   "cell_type": "code",
   "execution_count": 3,
   "metadata": {},
   "outputs": [],
   "source": [
    "def encode(plaintext):\n",
    "    return substitute(plaintext, alphabet, key)"
   ]
  },
  {
   "cell_type": "code",
   "execution_count": 4,
   "metadata": {},
   "outputs": [],
   "source": [
    "def decode(ciphertext):\n",
    "    return substitute(ciphertext, key, alphabet)"
   ]
  },
  {
   "cell_type": "code",
   "execution_count": 5,
   "metadata": {},
   "outputs": [],
   "source": [
    "message = 'the quick brown fox jumps over the lazy dog'\n",
    "code = encode(message)"
   ]
  },
  {
   "cell_type": "code",
   "execution_count": 6,
   "metadata": {},
   "outputs": [
    {
     "name": "stdout",
     "output_type": "stream",
     "text": [
      "vpf tziuo slqer hqw czxab qnfl vpf mjdg yqk\n"
     ]
    }
   ],
   "source": [
    "print(code)"
   ]
  },
  {
   "cell_type": "code",
   "execution_count": 8,
   "metadata": {},
   "outputs": [
    {
     "name": "stdout",
     "output_type": "stream",
     "text": [
      "the quick brown fox jumps over the lazy dog\n"
     ]
    }
   ],
   "source": [
    "print(decode(code))"
   ]
  },
  {
   "attachments": {},
   "cell_type": "markdown",
   "metadata": {},
   "source": [
    "## Caesar Ciphers"
   ]
  },
  {
   "cell_type": "code",
   "execution_count": 11,
   "metadata": {},
   "outputs": [],
   "source": [
    "alphabet = 'abcdefghijklmnopqrstuvwxyz'\n",
    "key = alphabet[3:] + alphabet[:3]"
   ]
  },
  {
   "cell_type": "code",
   "execution_count": 12,
   "metadata": {},
   "outputs": [
    {
     "name": "stdout",
     "output_type": "stream",
     "text": [
      "defghijklmnopqrstuvwxyzabc\n"
     ]
    }
   ],
   "source": [
    "print(key)"
   ]
  },
  {
   "cell_type": "code",
   "execution_count": 13,
   "metadata": {},
   "outputs": [],
   "source": [
    "ciphertext = 'kyv wzmv sfozex nzqriuj aldg hlztbcp'"
   ]
  },
  {
   "cell_type": "code",
   "execution_count": 14,
   "metadata": {},
   "outputs": [
    {
     "name": "stdout",
     "output_type": "stream",
     "text": [
      "kyv wzmv sfozex nzqriuj aldg hlztbcp\n",
      "jxu vylu renydw mypqhti zkcf gkysabo\n",
      "iwt uxkt qdmxcv lxopgsh yjbe fjxrzan\n",
      "hvs twjs pclwbu kwnofrg xiad eiwqyzm\n",
      "gur svir obkvat jvmneqf whzc dhvpxyl\n",
      "ftq ruhq najuzs iulmdpe vgyb cguowxk\n",
      "esp qtgp mzityr htklcod ufxa bftnvwj\n",
      "dro psfo lyhsxq gsjkbnc tewz aesmuvi\n",
      "cqn oren kxgrwp frijamb sdvy zdrltuh\n",
      "bpm nqdm jwfqvo eqhizla rcux ycqkstg\n",
      "aol mpcl ivepun dpghykz qbtw xbpjrsf\n",
      "znk lobk hudotm cofgxjy pasv waoiqre\n",
      "ymj knaj gtcnsl bnefwix ozru vznhpqd\n",
      "xli jmzi fsbmrk amdevhw nyqt uymgopc\n",
      "wkh ilyh eralqj zlcdugv mxps txlfnob\n",
      "vjg hkxg dqzkpi ykbctfu lwor swkemna\n",
      "uif gjwf cpyjoh xjabset kvnq rvjdlmz\n",
      "the five boxing wizards jump quickly\n",
      "sgd ehud anwhmf vhyzqcr itlo pthbjkx\n",
      "rfc dgtc zmvgle ugxypbq hskn osgaijw\n",
      "qeb cfsb ylufkd tfwxoap grjm nrfzhiv\n",
      "pda bera xktejc sevwnzo fqil mqeyghu\n",
      "ocz adqz wjsdib rduvmyn ephk lpdxfgt\n",
      "nby zcpy vircha qctulxm dogj kocwefs\n",
      "max ybox uhqbgz pbstkwl cnfi jnbvder\n",
      "lzw xanw tgpafy oarsjvk bmeh imaucdq\n"
     ]
    }
   ],
   "source": [
    "for shift in range(26):\n",
    "    key = alphabet[shift:] + alphabet[:shift]\n",
    "    print(decode(ciphertext))"
   ]
  },
  {
   "cell_type": "code",
   "execution_count": null,
   "metadata": {},
   "outputs": [],
   "source": []
  }
 ],
 "metadata": {
  "kernelspec": {
   "display_name": "Python 3",
   "language": "python",
   "name": "python3"
  },
  "language_info": {
   "codemirror_mode": {
    "name": "ipython",
    "version": 3
   },
   "file_extension": ".py",
   "mimetype": "text/x-python",
   "name": "python",
   "nbconvert_exporter": "python",
   "pygments_lexer": "ipython3",
   "version": "3.11.3"
  },
  "orig_nbformat": 4
 },
 "nbformat": 4,
 "nbformat_minor": 2
}
