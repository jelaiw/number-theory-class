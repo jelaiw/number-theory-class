{
 "cells": [
  {
   "attachments": {},
   "cell_type": "markdown",
   "metadata": {},
   "source": [
    "## First Example"
   ]
  },
  {
   "cell_type": "code",
   "execution_count": 1,
   "metadata": {},
   "outputs": [],
   "source": [
    "alphabet = 'abcdefghijklmnopqrstuvwxyz'\n",
    "key =      'jsuyfhkpicomxrqatlbvznewgd'\n"
   ]
  },
  {
   "cell_type": "code",
   "execution_count": 2,
   "metadata": {},
   "outputs": [],
   "source": [
    "def substitute(text, substitute_what, substitute_by):\n",
    "    result = ''\n",
    "    for symbol in text.lower():\n",
    "        if symbol in substitute_what:\n",
    "            result += substitute_by[substitute_what.index(symbol)]\n",
    "        else:\n",
    "            result += symbol\n",
    "\n",
    "    return result"
   ]
  },
  {
   "cell_type": "code",
   "execution_count": 3,
   "metadata": {},
   "outputs": [],
   "source": [
    "def encode(plaintext):\n",
    "    return substitute(plaintext, alphabet, key)"
   ]
  },
  {
   "cell_type": "code",
   "execution_count": 4,
   "metadata": {},
   "outputs": [],
   "source": [
    "def decode(ciphertext):\n",
    "    return substitute(ciphertext, key, alphabet)"
   ]
  },
  {
   "cell_type": "code",
   "execution_count": 5,
   "metadata": {},
   "outputs": [],
   "source": [
    "message = 'the quick brown fox jumps over the lazy dog'\n",
    "code = encode(message)"
   ]
  },
  {
   "cell_type": "code",
   "execution_count": 6,
   "metadata": {},
   "outputs": [
    {
     "name": "stdout",
     "output_type": "stream",
     "text": [
      "vpf tziuo slqer hqw czxab qnfl vpf mjdg yqk\n"
     ]
    }
   ],
   "source": [
    "print(code)"
   ]
  },
  {
   "cell_type": "code",
   "execution_count": 8,
   "metadata": {},
   "outputs": [
    {
     "name": "stdout",
     "output_type": "stream",
     "text": [
      "the quick brown fox jumps over the lazy dog\n"
     ]
    }
   ],
   "source": [
    "print(decode(code))"
   ]
  },
  {
   "attachments": {},
   "cell_type": "markdown",
   "metadata": {},
   "source": [
    "## Caesar Ciphers"
   ]
  },
  {
   "cell_type": "code",
   "execution_count": 11,
   "metadata": {},
   "outputs": [],
   "source": [
    "alphabet = 'abcdefghijklmnopqrstuvwxyz'\n",
    "key = alphabet[3:] + alphabet[:3]"
   ]
  },
  {
   "cell_type": "code",
   "execution_count": 12,
   "metadata": {},
   "outputs": [
    {
     "name": "stdout",
     "output_type": "stream",
     "text": [
      "defghijklmnopqrstuvwxyzabc\n"
     ]
    }
   ],
   "source": [
    "print(key)"
   ]
  },
  {
   "cell_type": "code",
   "execution_count": 13,
   "metadata": {},
   "outputs": [],
   "source": [
    "ciphertext = 'kyv wzmv sfozex nzqriuj aldg hlztbcp'"
   ]
  },
  {
   "cell_type": "code",
   "execution_count": 16,
   "metadata": {},
   "outputs": [
    {
     "name": "stdout",
     "output_type": "stream",
     "text": [
      "kyv wzmv sfozex nzqriuj aldg hlztbcp\n",
      "jxu vylu renydw mypqhti zkcf gkysabo\n",
      "iwt uxkt qdmxcv lxopgsh yjbe fjxrzan\n",
      "hvs twjs pclwbu kwnofrg xiad eiwqyzm\n",
      "gur svir obkvat jvmneqf whzc dhvpxyl\n",
      "ftq ruhq najuzs iulmdpe vgyb cguowxk\n",
      "esp qtgp mzityr htklcod ufxa bftnvwj\n",
      "dro psfo lyhsxq gsjkbnc tewz aesmuvi\n",
      "cqn oren kxgrwp frijamb sdvy zdrltuh\n",
      "bpm nqdm jwfqvo eqhizla rcux ycqkstg\n",
      "aol mpcl ivepun dpghykz qbtw xbpjrsf\n",
      "znk lobk hudotm cofgxjy pasv waoiqre\n",
      "ymj knaj gtcnsl bnefwix ozru vznhpqd\n",
      "xli jmzi fsbmrk amdevhw nyqt uymgopc\n",
      "wkh ilyh eralqj zlcdugv mxps txlfnob\n",
      "vjg hkxg dqzkpi ykbctfu lwor swkemna\n",
      "uif gjwf cpyjoh xjabset kvnq rvjdlmz\n",
      "the five boxing wizards jump quickly\n",
      "sgd ehud anwhmf vhyzqcr itlo pthbjkx\n",
      "rfc dgtc zmvgle ugxypbq hskn osgaijw\n",
      "qeb cfsb ylufkd tfwxoap grjm nrfzhiv\n",
      "pda bera xktejc sevwnzo fqil mqeyghu\n",
      "ocz adqz wjsdib rduvmyn ephk lpdxfgt\n",
      "nby zcpy vircha qctulxm dogj kocwefs\n",
      "max ybox uhqbgz pbstkwl cnfi jnbvder\n",
      "lzw xanw tgpafy oarsjvk bmeh imaucdq\n"
     ]
    }
   ],
   "source": [
    "for shift in range(len(alphabet)):\n",
    "    key = alphabet[shift:] + alphabet[:shift]\n",
    "    print(decode(ciphertext))"
   ]
  },
  {
   "attachments": {},
   "cell_type": "markdown",
   "metadata": {},
   "source": [
    "## Frequency Analysis Example\n",
    "See https://en.wikipedia.org/wiki/Frequency_analysis.\n",
    "\n",
    "Looks better after turning on line wrap in vscode settings. See https://stackoverflow.com/a/71234369."
   ]
  },
  {
   "cell_type": "code",
   "execution_count": 1,
   "metadata": {},
   "outputs": [],
   "source": [
    "ciphertext = \"livitcswpiyvewhevsriqmxleyveoiewhrxexipfemvewhkvstylxzixlikiixpijvszeyperrgerimwqlmglmxqeriwgpsrihmxqerekietxmjtprgevekeitrewhexxlexxmzitwawsqwxswextvepmrxrsjgstvrieyviexcvmuimwergmiwxmjmgcsmwxsjomiqxliviqivixqsvstwhkpegarcsxrwievswiibxvizmxfsjxlikegaewhepswyswiwievxlisxlivxlirgepirqiviibgiihmwypflevhewhypsrrfqmxleppxlieccievewgisjktvwmrlihysphxliqimylxsjxlimwrigxqeroivfvizevaekpiewhxeamwyeppxlmwyrmwxsgswrmhivexmswmgstphlevhpfkpezintcmxivjsvlmrscmwmswvircigxmwymx\""
   ]
  },
  {
   "cell_type": "code",
   "execution_count": 2,
   "metadata": {},
   "outputs": [],
   "source": [
    "# Credit to https://stackoverflow.com/questions/53760009/how-to-print-a-long-string-in-multiple-lines-in-python3.\n",
    "import textwrap"
   ]
  },
  {
   "cell_type": "code",
   "execution_count": 4,
   "metadata": {},
   "outputs": [
    {
     "name": "stdout",
     "output_type": "stream",
     "text": [
      "LIVITCSWPIYVEWHEVSRIQMXLEYVEOIEWHRXEXIPFEMVEWHKVSTYLXZIXLIKIIXPIJVSZEY\n",
      "PERRGERIMWQLMGLMXQERIWGPSRIHMXQEREKIETXMJTPRGEVEKEITREWHEXXLEXXMZITWAW\n",
      "SQWXSWEXTVEPMRXRSJGSTVRIEYVIEXCVMUIMWERGMIWXMJMGCSMWXSJOMIQXLIVIQIVIXQ\n",
      "SVSTWHKPEGARCSXRWIEVSWIIBXVIZMXFSJXLIKEGAEWHEPSWYSWIWIEVXLISXLIVXLIRGE\n",
      "PIRQIVIIBGIIHMWYPFLEVHEWHYPSRRFQMXLEPPXLIECCIEVEWGISJKTVWMRLIHYSPHXLIQ\n",
      "IMYLXSJXLIMWRIGXQEROIVFVIZEVAEKPIEWHXEAMWYEPPXLMWYRMWXSGSWRMHIVEXMSWMG\n",
      "STPHLEVHPFKPEZINTCMXIVJSVLMRSCMWMSWVIRCIGXMWYMX\n"
     ]
    }
   ],
   "source": [
    "ciphertext = ciphertext.upper()\n",
    "print(textwrap.fill(ciphertext))"
   ]
  },
  {
   "cell_type": "code",
   "execution_count": 5,
   "metadata": {},
   "outputs": [],
   "source": [
    "import matplotlib.pyplot as plt\n",
    "from collections import Counter"
   ]
  },
  {
   "attachments": {},
   "cell_type": "markdown",
   "metadata": {},
   "source": [
    "Credit to ChatGPT for plot code assist."
   ]
  },
  {
   "cell_type": "code",
   "execution_count": 6,
   "metadata": {},
   "outputs": [],
   "source": [
    "def plot_letter_frequency(text):\n",
    "    # Convert the text to lowercase and remove non-alphabetic characters\n",
    "    text = ''.join(c for c in text.lower() if c.isalpha())\n",
    "\n",
    "    # Count the frequency of each letter using Counter\n",
    "    letter_counts = Counter(text)\n",
    "\n",
    "    # Get the letters and their corresponding frequencies\n",
    "    letters = list(letter_counts.keys())\n",
    "    frequencies = list(letter_counts.values())\n",
    "\n",
    "    # Plot the frequency of letters\n",
    "    plt.bar(letters, frequencies)\n",
    "    plt.xlabel('Letters')\n",
    "    plt.ylabel('Frequency')\n",
    "    plt.title('Letter Frequency in the Text')\n",
    "    plt.show()"
   ]
  },
  {
   "cell_type": "code",
   "execution_count": 7,
   "metadata": {},
   "outputs": [
    {
     "data": {
      "image/png": "[encoded data removed]",
      "text/plain": [
       "<Figure size 640x480 with 1 Axes>"
      ]
     },
     "metadata": {},
     "output_type": "display_data"
    }
   ],
   "source": [
    "plot_letter_frequency(ciphertext)"
   ]
  },
  {
   "cell_type": "code",
   "execution_count": null,
   "metadata": {},
   "outputs": [],
   "source": []
  }
 ],
 "metadata": {
  "kernelspec": {
   "display_name": "Python 3",
   "language": "python",
   "name": "python3"
  },
  "language_info": {
   "codemirror_mode": {
    "name": "ipython",
    "version": 3
   },
   "file_extension": ".py",
   "mimetype": "text/x-python",
   "name": "python",
   "nbconvert_exporter": "python",
   "pygments_lexer": "ipython3",
   "version": "3.11.3"
  },
  "orig_nbformat": 4
 },
 "nbformat": 4,
 "nbformat_minor": 2
}
